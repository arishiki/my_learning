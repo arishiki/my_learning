{
 "cells": [
  {
   "cell_type": "code",
   "execution_count": 2,
   "metadata": {},
   "outputs": [
    {
     "name": "stdout",
     "output_type": "stream",
     "text": [
      "tensor([-0.1127,  0.1370,  0.8162], dtype=torch.float64) tensor([-0.4915], dtype=torch.float64) tensor([[-0.1127],\n",
      "        [ 0.1370],\n",
      "        [ 0.8162]], dtype=torch.float64)\n",
      "torch.Size([30, 1])\n",
      "tensor([[-0.1279],\n",
      "        [ 0.6051],\n",
      "        [-2.9538],\n",
      "        [ 0.7475],\n",
      "        [-1.9309],\n",
      "        [-3.0192],\n",
      "        [-4.4777],\n",
      "        [ 0.5463],\n",
      "        [ 2.8312],\n",
      "        [ 2.2648],\n",
      "        [-1.4360],\n",
      "        [ 1.2520],\n",
      "        [-5.2788],\n",
      "        [ 0.2087],\n",
      "        [-2.8582],\n",
      "        [-3.2171],\n",
      "        [-3.2912],\n",
      "        [ 0.7354],\n",
      "        [-0.6525],\n",
      "        [-2.0119],\n",
      "        [-3.8644],\n",
      "        [-1.5560],\n",
      "        [ 1.3118],\n",
      "        [-4.1333],\n",
      "        [ 1.2994],\n",
      "        [-0.5697],\n",
      "        [-2.2705],\n",
      "        [-3.8881],\n",
      "        [ 2.7365],\n",
      "        [ 2.0896]])\n"
     ]
    }
   ],
   "source": [
    "import numpy as np\n",
    "import torch\n",
    "\n",
    "rng = np.random.default_rng(33)\n",
    "\n",
    "N_of_samples = 30\n",
    "\n",
    "# generating a dataset\n",
    "\n",
    "# w: dimensionality (3)\n",
    "# b: of dimensionality (1)\n",
    "# eps: dimensionality (30) i.i.d. N(0,1)\n",
    "\n",
    "w = torch.from_numpy(2 * rng.random(size=3) - 1)\n",
    "b = torch.from_numpy(2 * rng.random(size=1) - 1)\n",
    "eps = torch.from_numpy(rng.normal(size=N_of_samples))\n",
    "\n",
    "print(w,b,w.unsqueeze(1))\n",
    "\n",
    "x = torch.from_numpy(10 * rng.random(size=(N_of_samples,3)) - 5)\n",
    "y = (torch.matmul(x, w.unsqueeze(1)) + b)+ eps.unsqueeze(1)\n",
    "\n",
    "x = x.to(torch.float32)\n",
    "y = y.to(torch.float32)\n",
    "\n",
    "print(y.shape)\n",
    "print(y)\n"
   ]
  },
  {
   "cell_type": "code",
   "execution_count": 3,
   "metadata": {},
   "outputs": [
    {
     "name": "stdout",
     "output_type": "stream",
     "text": [
      "shape of y_pred:torch.Size([30, 1])\n",
      "epoch:1 loss:13.706069946289062\n",
      "epoch:2 loss:13.251578330993652\n",
      "epoch:3 loss:12.813220024108887\n",
      "epoch:500 loss:0.8029464483261108\n",
      "epoch:1000 loss:0.8028889298439026\n",
      "epoch:1500 loss:0.8028796315193176\n",
      "epoch:2000 loss:0.802878201007843\n",
      "epoch:2500 loss:0.8028777241706848\n",
      "epoch:3000 loss:0.8028777837753296\n",
      "epoch:3500 loss:0.8028777837753296\n",
      "epoch:4000 loss:0.8028777837753296\n",
      "epoch:4500 loss:0.8028777241706848\n",
      "epoch:5000 loss:0.8028777241706848\n"
     ]
    }
   ],
   "source": [
    "import torch.optim as optim\n",
    "import torch.nn as nn\n",
    "\n",
    "linear_model = nn.Linear(3,1)\n",
    "\n",
    "def training_loop(x, y, num_of_epochs, learning_rate):\n",
    "    optimizer = optim.SGD(linear_model.parameters(), lr=learning_rate)\n",
    "    loss_fn = nn.MSELoss()\n",
    "    for epoch in range(num_of_epochs):\n",
    "        y_pred = linear_model(x)\n",
    "        if epoch == 0:\n",
    "            print(f'shape of y_pred:{y_pred.shape}')\n",
    "        loss = loss_fn(y, y_pred)\n",
    "\n",
    "        optimizer.zero_grad()\n",
    "        loss.backward()\n",
    "        optimizer.step()\n",
    "\n",
    "        if epoch < 3 or (epoch+1) % 500 == 0:\n",
    "            print(f'epoch:{epoch + 1} loss:{loss}')\n",
    "\n",
    "# do training\n",
    "training_loop(x,y,5000,1e-3)\n"
   ]
  },
  {
   "cell_type": "code",
   "execution_count": 4,
   "metadata": {},
   "outputs": [
    {
     "name": "stdout",
     "output_type": "stream",
     "text": [
      "[Parameter containing:\n",
      "tensor([[-0.0457,  0.1672,  0.7139]], requires_grad=True), Parameter containing:\n",
      "tensor([-0.6153], requires_grad=True)]\n"
     ]
    }
   ],
   "source": [
    "print(list(linear_model.parameters()))"
   ]
  },
  {
   "cell_type": "code",
   "execution_count": 8,
   "metadata": {},
   "outputs": [
    {
     "data": {
      "image/png": "[encoded data removed]",
      "text/plain": [
       "<Figure size 640x480 with 1 Axes>"
      ]
     },
     "metadata": {},
     "output_type": "display_data"
    }
   ],
   "source": [
    "import matplotlib.pyplot as plt\n",
    "%matplotlib inline\n",
    "\n",
    "fig = plt.plot(x[:,0],y, 'o')\n",
    "plt.show(fig)"
   ]
  },
  {
   "cell_type": "code",
   "execution_count": null,
   "metadata": {},
   "outputs": [],
   "source": []
  }
 ],
 "metadata": {
  "kernelspec": {
   "display_name": "ML_Learning",
   "language": "python",
   "name": "python3"
  },
  "language_info": {
   "codemirror_mode": {
    "name": "ipython",
    "version": 3
   },
   "file_extension": ".py",
   "mimetype": "text/x-python",
   "name": "python",
   "nbconvert_exporter": "python",
   "pygments_lexer": "ipython3",
   "version": "3.12.3"
  }
 },
 "nbformat": 4,
 "nbformat_minor": 2
}
